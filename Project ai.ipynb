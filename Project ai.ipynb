{
  "cells": [
    {
      "cell_type": "code",
      "execution_count": null,
      "metadata": {
        "colab": {
          "base_uri": "https://localhost:8080/",
          "height": 517
        },
        "id": "ws2Eyzsp03jc",
        "outputId": "2ec2651f-3828-4bb5-b1f0-d158f3f1264d"
      },
      "outputs": [
        {
          "name": "stderr",
          "output_type": "stream",
          "text": [
            "WARNING:absl:Compiled the loaded model, but the compiled metrics have yet to be built. `model.compile_metrics` will be empty until you train or evaluate the model.\n"
          ]
        },
        {
          "name": "stdout",
          "output_type": "stream",
          "text": [
            "Enter the path to the image: /content/C:/dataset_images/3/image_615.png\n",
            "\u001b[1m1/1\u001b[0m \u001b[32m━━━━━━━━━━━━━━━━━━━━\u001b[0m\u001b[37m\u001b[0m \u001b[1m0s\u001b[0m 99ms/step\n",
            "Predicted Emotion: Happy\n"
          ]
        },
        {
          "data": {
            "image/png": "[encoded data removed]",
            "text/plain": [
              "<Figure size 640x480 with 1 Axes>"
            ]
          },
          "metadata": {},
          "output_type": "display_data"
        }
      ],
      "source": [
        "import tensorflow as tf\n",
        "from tensorflow.keras.models import load_model\n",
        "import numpy as np\n",
        "import cv2\n",
        "import matplotlib.pyplot as plt\n",
        "\n",
        "model = load_model(\"facial_expression_model.h5\")\n",
        "\n",
        "\n",
        "emotion_labels = ['Anger', 'Disgust', 'Fear', 'Happy', 'Sad', 'Surprise', 'Neutral']\n",
        "\n",
        "\n",
        "def preprocess_image(image_path):\n",
        "   \n",
        "    img = cv2.imread(image_path)\n",
        "    img = cv2.cvtColor(img, cv2.COLOR_BGR2GRAY)  \n",
        "    img = cv2.resize(img, (48, 48)) \n",
        "    img = img.reshape(1, 48, 48, 1) \n",
        "    img = img / 255.0 \n",
        "    return img\n",
        "\n",
        "\n",
        "def predict_expression(image):\n",
        "    prediction = model.predict(image)\n",
        "    predicted_class = np.argmax(prediction, axis=1)[0]  \n",
        "    return emotion_labels[predicted_class]\n",
        "\n",
        "# Main function to run the prediction\n",
        "def main():\n",
        "    # Input image path\n",
        "    image_path = input(\"Enter the path to the image: \")\n",
        "\n",
        "    # Preprocess the image\n",
        "    image = preprocess_image(image_path)\n",
        "\n",
        "    # Predict the emotion\n",
        "    emotion = predict_expression(image)\n",
        "\n",
        "    # Display the result\n",
        "    print(f\"Predicted Emotion: {emotion}\")\n",
        "\n",
        "    # Display the uploaded image\n",
        "    img = cv2.imread(image_path)\n",
        "    img = cv2.cvtColor(img, cv2.COLOR_BGR2RGB)  # Convert color for displaying with matplotlib\n",
        "    plt.imshow(img)\n",
        "    plt.title(f\"Predicted Emotion: {emotion}\")\n",
        "    plt.axis('off')\n",
        "    plt.show()\n",
        "\n",
        "# Run the main function\n",
        "if __name__ == \"__main__\":\n",
        "    main()\n"
      ]
    },
    {
      "cell_type": "code",
      "execution_count": 9,
      "metadata": {
        "colab": {
          "base_uri": "https://localhost:8080/"
        },
        "id": "o0m5JsgqaoO9",
        "outputId": "abd85d77-1a3f-4695-fb56-909e1d7257ec"
      },
      "outputs": [
        {
          "name": "stderr",
          "output_type": "stream",
          "text": [
            "/usr/local/lib/python3.11/dist-packages/keras/src/layers/convolutional/base_conv.py:107: UserWarning: Do not pass an `input_shape`/`input_dim` argument to a layer. When using Sequential models, prefer using an `Input(shape)` object as the first layer in the model instead.\n",
            "  super().__init__(activity_regularizer=activity_regularizer, **kwargs)\n"
          ]
        },
        {
          "name": "stdout",
          "output_type": "stream",
          "text": [
            "Epoch 1/25\n",
            "\u001b[1m12/12\u001b[0m \u001b[32m━━━━━━━━━━━━━━━━━━━━\u001b[0m\u001b[37m\u001b[0m \u001b[1m6s\u001b[0m 203ms/step - accuracy: 0.5021 - loss: 1.7800 - val_accuracy: 0.6413 - val_loss: 1.3911\n",
            "Epoch 2/25\n",
            "\u001b[1m12/12\u001b[0m \u001b[32m━━━━━━━━━━━━━━━━━━━━\u001b[0m\u001b[37m\u001b[0m \u001b[1m4s\u001b[0m 177ms/step - accuracy: 0.6453 - loss: 1.3706 - val_accuracy: 0.6413 - val_loss: 1.3339\n",
            "Epoch 3/25\n",
            "\u001b[1m12/12\u001b[0m \u001b[32m━━━━━━━━━━━━━━━━━━━━\u001b[0m\u001b[37m\u001b[0m \u001b[1m2s\u001b[0m 179ms/step - accuracy: 0.6751 - loss: 1.3067 - val_accuracy: 0.6413 - val_loss: 1.3254\n",
            "Epoch 4/25\n",
            "\u001b[1m12/12\u001b[0m \u001b[32m━━━━━━━━━━━━━━━━━━━━\u001b[0m\u001b[37m\u001b[0m \u001b[1m3s\u001b[0m 258ms/step - accuracy: 0.6694 - loss: 1.3310 - val_accuracy: 0.6413 - val_loss: 1.3284\n",
            "Epoch 5/25\n",
            "\u001b[1m12/12\u001b[0m \u001b[32m━━━━━━━━━━━━━━━━━━━━\u001b[0m\u001b[37m\u001b[0m \u001b[1m3s\u001b[0m 240ms/step - accuracy: 0.6546 - loss: 1.3085 - val_accuracy: 0.6413 - val_loss: 1.3163\n",
            "Epoch 6/25\n",
            "\u001b[1m12/12\u001b[0m \u001b[32m━━━━━━━━━━━━━━━━━━━━\u001b[0m\u001b[37m\u001b[0m \u001b[1m2s\u001b[0m 177ms/step - accuracy: 0.6191 - loss: 1.3676 - val_accuracy: 0.6413 - val_loss: 1.2779\n",
            "Epoch 7/25\n",
            "\u001b[1m12/12\u001b[0m \u001b[32m━━━━━━━━━━━━━━━━━━━━\u001b[0m\u001b[37m\u001b[0m \u001b[1m2s\u001b[0m 175ms/step - accuracy: 0.6303 - loss: 1.3139 - val_accuracy: 0.6413 - val_loss: 1.2349\n",
            "Epoch 8/25\n",
            "\u001b[1m12/12\u001b[0m \u001b[32m━━━━━━━━━━━━━━━━━━━━\u001b[0m\u001b[37m\u001b[0m \u001b[1m2s\u001b[0m 178ms/step - accuracy: 0.6522 - loss: 1.2034 - val_accuracy: 0.6413 - val_loss: 1.1434\n",
            "Epoch 9/25\n",
            "\u001b[1m12/12\u001b[0m \u001b[32m━━━━━━━━━━━━━━━━━━━━\u001b[0m\u001b[37m\u001b[0m \u001b[1m3s\u001b[0m 194ms/step - accuracy: 0.6635 - loss: 1.1436 - val_accuracy: 0.6793 - val_loss: 1.0277\n",
            "Epoch 10/25\n",
            "\u001b[1m12/12\u001b[0m \u001b[32m━━━━━━━━━━━━━━━━━━━━\u001b[0m\u001b[37m\u001b[0m \u001b[1m4s\u001b[0m 295ms/step - accuracy: 0.7077 - loss: 1.0024 - val_accuracy: 0.6902 - val_loss: 0.9084\n",
            "Epoch 11/25\n",
            "\u001b[1m12/12\u001b[0m \u001b[32m━━━━━━━━━━━━━━━━━━━━\u001b[0m\u001b[37m\u001b[0m \u001b[1m4s\u001b[0m 175ms/step - accuracy: 0.7161 - loss: 0.9539 - val_accuracy: 0.7609 - val_loss: 0.8033\n",
            "Epoch 12/25\n",
            "\u001b[1m12/12\u001b[0m \u001b[32m━━━━━━━━━━━━━━━━━━━━\u001b[0m\u001b[37m\u001b[0m \u001b[1m3s\u001b[0m 181ms/step - accuracy: 0.7431 - loss: 0.8908 - val_accuracy: 0.7935 - val_loss: 0.7314\n",
            "Epoch 13/25\n",
            "\u001b[1m12/12\u001b[0m \u001b[32m━━━━━━━━━━━━━━━━━━━━\u001b[0m\u001b[37m\u001b[0m \u001b[1m3s\u001b[0m 191ms/step - accuracy: 0.7814 - loss: 0.7746 - val_accuracy: 0.7989 - val_loss: 0.6638\n",
            "Epoch 14/25\n",
            "\u001b[1m12/12\u001b[0m \u001b[32m━━━━━━━━━━━━━━━━━━━━\u001b[0m\u001b[37m\u001b[0m \u001b[1m3s\u001b[0m 275ms/step - accuracy: 0.8214 - loss: 0.6669 - val_accuracy: 0.8043 - val_loss: 0.6347\n",
            "Epoch 15/25\n",
            "\u001b[1m12/12\u001b[0m \u001b[32m━━━━━━━━━━━━━━━━━━━━\u001b[0m\u001b[37m\u001b[0m \u001b[1m3s\u001b[0m 230ms/step - accuracy: 0.8215 - loss: 0.6451 - val_accuracy: 0.8315 - val_loss: 0.6039\n",
            "Epoch 16/25\n",
            "\u001b[1m12/12\u001b[0m \u001b[32m━━━━━━━━━━━━━━━━━━━━\u001b[0m\u001b[37m\u001b[0m \u001b[1m4s\u001b[0m 180ms/step - accuracy: 0.8194 - loss: 0.6488 - val_accuracy: 0.8098 - val_loss: 0.5866\n",
            "Epoch 17/25\n",
            "\u001b[1m12/12\u001b[0m \u001b[32m━━━━━━━━━━━━━━━━━━━━\u001b[0m\u001b[37m\u001b[0m \u001b[1m2s\u001b[0m 180ms/step - accuracy: 0.8345 - loss: 0.5841 - val_accuracy: 0.8261 - val_loss: 0.5806\n",
            "Epoch 18/25\n",
            "\u001b[1m12/12\u001b[0m \u001b[32m━━━━━━━━━━━━━━━━━━━━\u001b[0m\u001b[37m\u001b[0m \u001b[1m2s\u001b[0m 182ms/step - accuracy: 0.8343 - loss: 0.5803 - val_accuracy: 0.8478 - val_loss: 0.5426\n",
            "Epoch 19/25\n",
            "\u001b[1m12/12\u001b[0m \u001b[32m━━━━━━━━━━━━━━━━━━━━\u001b[0m\u001b[37m\u001b[0m \u001b[1m4s\u001b[0m 303ms/step - accuracy: 0.8525 - loss: 0.5219 - val_accuracy: 0.8478 - val_loss: 0.5285\n",
            "Epoch 20/25\n",
            "\u001b[1m12/12\u001b[0m \u001b[32m━━━━━━━━━━━━━━━━━━━━\u001b[0m\u001b[37m\u001b[0m \u001b[1m4s\u001b[0m 179ms/step - accuracy: 0.8359 - loss: 0.5417 - val_accuracy: 0.8478 - val_loss: 0.5022\n",
            "Epoch 21/25\n",
            "\u001b[1m12/12\u001b[0m \u001b[32m━━━━━━━━━━━━━━━━━━━━\u001b[0m\u001b[37m\u001b[0m \u001b[1m2s\u001b[0m 179ms/step - accuracy: 0.8674 - loss: 0.4383 - val_accuracy: 0.8641 - val_loss: 0.4809\n",
            "Epoch 22/25\n",
            "\u001b[1m12/12\u001b[0m \u001b[32m━━━━━━━━━━━━━━━━━━━━\u001b[0m\u001b[37m\u001b[0m \u001b[1m2s\u001b[0m 185ms/step - accuracy: 0.8659 - loss: 0.4339 - val_accuracy: 0.8478 - val_loss: 0.5234\n",
            "Epoch 23/25\n",
            "\u001b[1m12/12\u001b[0m \u001b[32m━━━━━━━━━━━━━━━━━━━━\u001b[0m\u001b[37m\u001b[0m \u001b[1m3s\u001b[0m 233ms/step - accuracy: 0.8638 - loss: 0.4588 - val_accuracy: 0.8641 - val_loss: 0.4730\n",
            "Epoch 24/25\n",
            "\u001b[1m12/12\u001b[0m \u001b[32m━━━━━━━━━━━━━━━━━━━━\u001b[0m\u001b[37m\u001b[0m \u001b[1m3s\u001b[0m 249ms/step - accuracy: 0.8880 - loss: 0.3796 - val_accuracy: 0.8750 - val_loss: 0.4288\n",
            "Epoch 25/25\n",
            "\u001b[1m12/12\u001b[0m \u001b[32m━━━━━━━━━━━━━━━━━━━━\u001b[0m\u001b[37m\u001b[0m \u001b[1m2s\u001b[0m 178ms/step - accuracy: 0.8689 - loss: 0.3977 - val_accuracy: 0.8533 - val_loss: 0.4295\n",
            "\u001b[1m6/6\u001b[0m \u001b[32m━━━━━━━━━━━━━━━━━━━━\u001b[0m\u001b[37m\u001b[0m \u001b[1m0s\u001b[0m 30ms/step - accuracy: 0.8587 - loss: 0.4456\n"
          ]
        },
        {
          "name": "stderr",
          "output_type": "stream",
          "text": [
            "WARNING:absl:You are saving your model as an HDF5 file via `model.save()` or `keras.saving.save_model(model)`. This file format is considered legacy. We recommend using instead the native Keras format, e.g. `model.save('my_model.keras')` or `keras.saving.save_model(model, 'my_model.keras')`. \n"
          ]
        },
        {
          "name": "stdout",
          "output_type": "stream",
          "text": [
            "Test Accuracy: 85.33%\n"
          ]
        }
      ],
      "source": [
        "import tensorflow as tf\n",
        "from tensorflow.keras.models import Sequential\n",
        "from tensorflow.keras.layers import Conv2D, MaxPooling2D, Flatten, Dense, Dropout\n",
        "from tensorflow.keras.preprocessing.image import ImageDataGenerator\n",
        "from sklearn.model_selection import train_test_split\n",
        "import numpy as np\n",
        "import pandas as pd\n",
        "import cv2\n",
        "import os\n",
        "import matplotlib.pyplot as plt\n",
        "\n",
        "df = pd.read_csv(\"/content/ckextended.csv\")\n",
        "X, y = [], []\n",
        "for i in range(len(df)):\n",
        "    pixels = np.array(df[\"pixels\"][i].split(), dtype='float32').reshape(48, 48, 1)\n",
        "    X.append(pixels)\n",
        "    y.append(df[\"emotion\"][i])\n",
        "\n",
        "X = np.array(X) / 255.0  # Normalize pixel values\n",
        "y = np.array(y)\n",
        "\n",
        "# Split data into train and test sets\n",
        "X_train, X_test, y_train, y_test = train_test_split(X, y, test_size=0.2, random_state=42)\n",
        "\n",
        "# Convert labels to categorical\n",
        "num_classes = len(set(y))\n",
        "y_train = tf.keras.utils.to_categorical(y_train, num_classes)\n",
        "y_test = tf.keras.utils.to_categorical(y_test, num_classes)\n",
        "\n",
        "# Build CNN model\n",
        "model = Sequential([\n",
        "    Conv2D(32, (3,3), activation='relu', input_shape=(48, 48, 1)),\n",
        "    MaxPooling2D(2,2),\n",
        "    Conv2D(64, (3,3), activation='relu'),\n",
        "    MaxPooling2D(2,2),\n",
        "    Conv2D(128, (3,3), activation='relu'),\n",
        "    MaxPooling2D(2,2),\n",
        "    Flatten(),\n",
        "    Dense(128, activation='relu'),\n",
        "    Dropout(0.5),\n",
        "    Dense(num_classes, activation='softmax')\n",
        "])\n",
        "\n",
        "# Compile model\n",
        "model.compile(optimizer='adam', loss='categorical_crossentropy', metrics=['accuracy'])\n",
        "\n",
        "# Train model\n",
        "history = model.fit(X_train, y_train, epochs=25, batch_size=64, validation_data=(X_test, y_test))\n",
        "\n",
        "# Evaluate model\n",
        "accuracy = model.evaluate(X_test, y_test)[1] * 100\n",
        "print(f\"Test Accuracy: {accuracy:.2f}%\")\n",
        "\n",
        "# Save model\n",
        "model.save(\"facial_expression_model.h5\")\n"
      ]
    },
    {
      "cell_type": "code",
      "execution_count": 13,
      "metadata": {
        "colab": {
          "base_uri": "https://localhost:8080/"
        },
        "id": "YV9Ar4OSJ44H",
        "outputId": "5fe8b439-6938-4d33-d9bb-09a2de99b25b"
      },
      "outputs": [
        {
          "name": "stdout",
          "output_type": "stream",
          "text": [
            "Saved 0 images...\n",
            "Saved 100 images...\n",
            "Saved 200 images...\n",
            "Saved 300 images...\n",
            "Saved 400 images...\n",
            "Saved 500 images...\n",
            "Saved 600 images...\n",
            "Saved 700 images...\n",
            "Saved 800 images...\n",
            "Saved 900 images...\n",
            "Image conversion completed!\n"
          ]
        }
      ],
      "source": [
        "import pandas as pd\n",
        "import numpy as np\n",
        "import os\n",
        "import cv2\n",
        "\n",
        "# Load dataset\n",
        "df = pd.read_csv(\"ckextended.csv\")  # Replace with your dataset\n",
        "\n",
        "# Define output directory on the Desktop (for example)\n",
        "output_dir = \"C:/dataset_images\"\n",
        "os.makedirs(output_dir, exist_ok=True)\n",
        "\n",
        "# Loop through the dataset and save images\n",
        "for index, row in df.iterrows():\n",
        "    pixels = np.array(row[\"pixels\"].split(), dtype=np.uint8).reshape(48, 48)  # Reshape to 48x48\n",
        "    label = str(row[\"emotion\"])  # Emotion label\n",
        "\n",
        "    # Create label directory\n",
        "    label_dir = os.path.join(output_dir, label)\n",
        "    os.makedirs(label_dir, exist_ok=True)\n",
        "\n",
        "    # Save image\n",
        "    img_path = os.path.join(label_dir, f\"image_{index}.png\")\n",
        "    cv2.imwrite(img_path, pixels)\n",
        "\n",
        "    if index % 100 == 0:\n",
        "        print(f\"Saved {index} images...\")\n",
        "\n",
        "print(\"Image conversion completed!\")\n"
      ]
    }
  ],
  "metadata": {
    "colab": {
      "provenance": []
    },
    "kernelspec": {
      "display_name": "Python 3",
      "name": "python3"
    },
    "language_info": {
      "name": "python"
    }
  },
  "nbformat": 4,
  "nbformat_minor": 0
}
